{
 "cells": [
  {
   "cell_type": "code",
   "execution_count": 1,
   "id": "5d28507b",
   "metadata": {},
   "outputs": [],
   "source": [
    "import xenocanto as xc \n",
    "import pandas as pd\n",
    "import json\n",
    "import numpy as np\n",
    "import wget\n",
    "import time\n",
    "import shutil\n",
    "import os"
   ]
  },
  {
   "cell_type": "markdown",
   "id": "d409d53e",
   "metadata": {},
   "source": [
    "# List species that have not been downloaded previously"
   ]
  },
  {
   "cell_type": "code",
   "execution_count": 4,
   "id": "5d7346e4",
   "metadata": {},
   "outputs": [
    {
     "data": {
      "text/html": [
       "<div>\n",
       "<style scoped>\n",
       "    .dataframe tbody tr th:only-of-type {\n",
       "        vertical-align: middle;\n",
       "    }\n",
       "\n",
       "    .dataframe tbody tr th {\n",
       "        vertical-align: top;\n",
       "    }\n",
       "\n",
       "    .dataframe thead th {\n",
       "        text-align: right;\n",
       "    }\n",
       "</style>\n",
       "<table border=\"1\" class=\"dataframe\">\n",
       "  <thead>\n",
       "    <tr style=\"text-align: right;\">\n",
       "      <th></th>\n",
       "      <th>species_code</th>\n",
       "      <th>common_name</th>\n",
       "      <th>scientific_name</th>\n",
       "      <th>xc_common_name</th>\n",
       "      <th>xc_scientific_name</th>\n",
       "    </tr>\n",
       "  </thead>\n",
       "  <tbody>\n",
       "    <tr>\n",
       "      <th>0</th>\n",
       "      <td>grerhe1</td>\n",
       "      <td>Greater Rhea</td>\n",
       "      <td>Rhea americana</td>\n",
       "      <td>Greater Rhea</td>\n",
       "      <td>Rhea americana</td>\n",
       "    </tr>\n",
       "    <tr>\n",
       "      <th>1</th>\n",
       "      <td>smbtin1</td>\n",
       "      <td>Small-billed Tinamou</td>\n",
       "      <td>Crypturellus parvirostris</td>\n",
       "      <td>Small-billed Tinamou</td>\n",
       "      <td>Crypturellus parvirostris</td>\n",
       "    </tr>\n",
       "    <tr>\n",
       "      <th>2</th>\n",
       "      <td>tattin1</td>\n",
       "      <td>Tataupa Tinamou</td>\n",
       "      <td>Crypturellus tataupa</td>\n",
       "      <td>Tataupa Tinamou</td>\n",
       "      <td>Crypturellus tataupa</td>\n",
       "    </tr>\n",
       "    <tr>\n",
       "      <th>3</th>\n",
       "      <td>brutin1</td>\n",
       "      <td>Brushland Tinamou</td>\n",
       "      <td>Nothoprocta cinerascens</td>\n",
       "      <td>Brushland Tinamou</td>\n",
       "      <td>Nothoprocta cinerascens</td>\n",
       "    </tr>\n",
       "    <tr>\n",
       "      <th>4</th>\n",
       "      <td>sponot1</td>\n",
       "      <td>Spotted Nothura</td>\n",
       "      <td>Nothura maculosa</td>\n",
       "      <td>Spotted Nothura</td>\n",
       "      <td>Nothura maculosa</td>\n",
       "    </tr>\n",
       "    <tr>\n",
       "      <th>...</th>\n",
       "      <td>...</td>\n",
       "      <td>...</td>\n",
       "      <td>...</td>\n",
       "      <td>...</td>\n",
       "      <td>...</td>\n",
       "    </tr>\n",
       "    <tr>\n",
       "      <th>371</th>\n",
       "      <td>recfin1</td>\n",
       "      <td>Red-crested Finch</td>\n",
       "      <td>Coryphospingus cucullatus</td>\n",
       "      <td>Red Pileated Finch</td>\n",
       "      <td>Coryphospingus cucullatus</td>\n",
       "    </tr>\n",
       "    <tr>\n",
       "      <th>372</th>\n",
       "      <td>ducgra2</td>\n",
       "      <td>Dull-colored Grassquit</td>\n",
       "      <td>Asemospiza obscura</td>\n",
       "      <td>Dull-colored Grassquit</td>\n",
       "      <td>Asemospiza obscura</td>\n",
       "    </tr>\n",
       "    <tr>\n",
       "      <th>373</th>\n",
       "      <td>mccfin1</td>\n",
       "      <td>Many-colored Chaco Finch</td>\n",
       "      <td>Saltatricula multicolor</td>\n",
       "      <td>Many-colored Chaco Finch</td>\n",
       "      <td>Saltatricula multicolor</td>\n",
       "    </tr>\n",
       "    <tr>\n",
       "      <th>374</th>\n",
       "      <td>grasal1</td>\n",
       "      <td>Grayish Saltator</td>\n",
       "      <td>Saltator coerulescens</td>\n",
       "      <td>Greyish Saltator</td>\n",
       "      <td>Saltator coerulescens</td>\n",
       "    </tr>\n",
       "    <tr>\n",
       "      <th>375</th>\n",
       "      <td>gobsal1</td>\n",
       "      <td>Golden-billed Saltator</td>\n",
       "      <td>Saltator aurantiirostris</td>\n",
       "      <td>Golden-billed Saltator</td>\n",
       "      <td>Saltator aurantiirostris</td>\n",
       "    </tr>\n",
       "  </tbody>\n",
       "</table>\n",
       "<p>376 rows × 5 columns</p>\n",
       "</div>"
      ],
      "text/plain": [
       "    species_code               common_name            scientific_name  \\\n",
       "0        grerhe1              Greater Rhea             Rhea americana   \n",
       "1        smbtin1      Small-billed Tinamou  Crypturellus parvirostris   \n",
       "2        tattin1           Tataupa Tinamou       Crypturellus tataupa   \n",
       "3        brutin1         Brushland Tinamou    Nothoprocta cinerascens   \n",
       "4        sponot1           Spotted Nothura           Nothura maculosa   \n",
       "..           ...                       ...                        ...   \n",
       "371      recfin1         Red-crested Finch  Coryphospingus cucullatus   \n",
       "372      ducgra2    Dull-colored Grassquit         Asemospiza obscura   \n",
       "373      mccfin1  Many-colored Chaco Finch    Saltatricula multicolor   \n",
       "374      grasal1          Grayish Saltator      Saltator coerulescens   \n",
       "375      gobsal1    Golden-billed Saltator   Saltator aurantiirostris   \n",
       "\n",
       "               xc_common_name         xc_scientific_name  \n",
       "0                Greater Rhea             Rhea americana  \n",
       "1        Small-billed Tinamou  Crypturellus parvirostris  \n",
       "2             Tataupa Tinamou       Crypturellus tataupa  \n",
       "3           Brushland Tinamou    Nothoprocta cinerascens  \n",
       "4             Spotted Nothura           Nothura maculosa  \n",
       "..                        ...                        ...  \n",
       "371        Red Pileated Finch  Coryphospingus cucullatus  \n",
       "372    Dull-colored Grassquit         Asemospiza obscura  \n",
       "373  Many-colored Chaco Finch    Saltatricula multicolor  \n",
       "374          Greyish Saltator      Saltator coerulescens  \n",
       "375    Golden-billed Saltator   Saltator aurantiirostris  \n",
       "\n",
       "[376 rows x 5 columns]"
      ]
     },
     "execution_count": 4,
     "metadata": {},
     "output_type": "execute_result"
    }
   ],
   "source": [
    "path_to_species_list = \"models/Argentina_Chaco/species_list.csv\"\n",
    "\n",
    "previous_clips = pd.read_csv(\"---/xc_clips.csv\") # path to metadata of previously processed xeno-canto clips\n",
    "\n",
    "downloaded_species = np.unique(previous_clips['species_code'])\n",
    "\n",
    "species_list = pd.read_csv(path_to_species_list)\n",
    "species_list"
   ]
  },
  {
   "cell_type": "code",
   "execution_count": 5,
   "id": "bfc315a1",
   "metadata": {},
   "outputs": [
    {
     "name": "stdout",
     "output_type": "stream",
     "text": [
      "Number of new species: 4\n"
     ]
    },
    {
     "data": {
      "text/html": [
       "<div>\n",
       "<style scoped>\n",
       "    .dataframe tbody tr th:only-of-type {\n",
       "        vertical-align: middle;\n",
       "    }\n",
       "\n",
       "    .dataframe tbody tr th {\n",
       "        vertical-align: top;\n",
       "    }\n",
       "\n",
       "    .dataframe thead th {\n",
       "        text-align: right;\n",
       "    }\n",
       "</style>\n",
       "<table border=\"1\" class=\"dataframe\">\n",
       "  <thead>\n",
       "    <tr style=\"text-align: right;\">\n",
       "      <th></th>\n",
       "      <th>species_code</th>\n",
       "      <th>common_name</th>\n",
       "      <th>scientific_name</th>\n",
       "      <th>xc_common_name</th>\n",
       "      <th>xc_scientific_name</th>\n",
       "    </tr>\n",
       "  </thead>\n",
       "  <tbody>\n",
       "    <tr>\n",
       "      <th>272</th>\n",
       "      <td>spetyr1</td>\n",
       "      <td>Spectacled Tyrant</td>\n",
       "      <td>Hymenops perspicillatus</td>\n",
       "      <td>Spectacled Tyrant</td>\n",
       "      <td>Hymenops perspicillatus</td>\n",
       "    </tr>\n",
       "    <tr>\n",
       "      <th>278</th>\n",
       "      <td>bkcmon1</td>\n",
       "      <td>Black-crowned Monjita</td>\n",
       "      <td>Xolmis coronatus</td>\n",
       "      <td>Black-crowned Monjita</td>\n",
       "      <td>Neoxolmis coronatus</td>\n",
       "    </tr>\n",
       "    <tr>\n",
       "      <th>280</th>\n",
       "      <td>salmon1</td>\n",
       "      <td>Salinas Monjita</td>\n",
       "      <td>Xolmis salinarum</td>\n",
       "      <td>Salinas Monjita</td>\n",
       "      <td>Neoxolmis salinarum</td>\n",
       "    </tr>\n",
       "    <tr>\n",
       "      <th>358</th>\n",
       "      <td>casfin1</td>\n",
       "      <td>Carbonated Sierra-Finch</td>\n",
       "      <td>Porphyrospiza carbonaria</td>\n",
       "      <td>Carbonated Sierra Finch</td>\n",
       "      <td>Porphyrospiza carbonaria</td>\n",
       "    </tr>\n",
       "  </tbody>\n",
       "</table>\n",
       "</div>"
      ],
      "text/plain": [
       "    species_code              common_name           scientific_name  \\\n",
       "272      spetyr1        Spectacled Tyrant   Hymenops perspicillatus   \n",
       "278      bkcmon1    Black-crowned Monjita          Xolmis coronatus   \n",
       "280      salmon1          Salinas Monjita          Xolmis salinarum   \n",
       "358      casfin1  Carbonated Sierra-Finch  Porphyrospiza carbonaria   \n",
       "\n",
       "              xc_common_name        xc_scientific_name  \n",
       "272        Spectacled Tyrant   Hymenops perspicillatus  \n",
       "278    Black-crowned Monjita       Neoxolmis coronatus  \n",
       "280          Salinas Monjita       Neoxolmis salinarum  \n",
       "358  Carbonated Sierra Finch  Porphyrospiza carbonaria  "
      ]
     },
     "execution_count": 5,
     "metadata": {},
     "output_type": "execute_result"
    }
   ],
   "source": [
    "species_to_download = list(set(species_list['species_code']) - set(downloaded_species))\n",
    "new_species = species_list[species_list['species_code'].isin(species_to_download)]\n",
    "xc_species = pd.read_csv(\"BSG_results/xc_species.csv\")\n",
    "print(f\"Number of new species: {len(new_species)}\")\n",
    "new_species"
   ]
  },
  {
   "cell_type": "markdown",
   "id": "e8cf10a4",
   "metadata": {},
   "source": [
    "# Retrieve the metadata for files to be downloaded from xeno-canto"
   ]
  },
  {
   "cell_type": "code",
   "execution_count": 6,
   "id": "596fb33e",
   "metadata": {},
   "outputs": [],
   "source": [
    "batch_no = \"_16\" # running batch number "
   ]
  },
  {
   "cell_type": "code",
   "execution_count": 7,
   "id": "699fc62f",
   "metadata": {
    "scrolled": true
   },
   "outputs": [
    {
     "name": "stdout",
     "output_type": "stream",
     "text": [
      "Downloading Spectacled Tyrant, 24 recordings\n",
      "Retrieving metadata...\n",
      "Downloading metadate page 1...\n",
      "Downloading Black-crowned Monjita, 3 recordings\n",
      "Retrieving metadata...\n",
      "Downloading metadate page 1...\n",
      "Downloading Salinas Monjita, 10 recordings\n",
      "Retrieving metadata...\n",
      "Downloading metadate page 1...\n",
      "Downloading Carbonated Sierra Finch, 9 recordings\n",
      "Retrieving metadata...\n",
      "Downloading metadate page 1...\n"
     ]
    }
   ],
   "source": [
    "out_path = \"BSG_results/xc_files_to_download_batch\" + batch_no + \".csv\"\n",
    "path_to_new_recs = '---/' # path where downloaded recordings are saved\n",
    "path_to_old_recs = '---/' # path where previous xeno-canto recordings have been saved\n",
    "path_to_metadata = '---/' # path where metadata of xeno-canto recordings is saved\n",
    "n_per_species = 500 # up to 500 recordings from each species \n",
    "\n",
    "xc_data_files = []\n",
    "for i in range(len(new_species)):\n",
    "    sp_eng = new_species['xc_common_name'].iloc[i]\n",
    "    sp_lat = new_species['xc_scientific_name'].iloc[i]\n",
    "    n_files = xc_species[\"No.\"].loc[xc_species['Scientific name']==sp_lat].iloc[0]\n",
    "    print(f\"Downloading {sp_eng}, {n_files} recordings\")\n",
    "    if(n_files < n_per_species): \n",
    "        # download metadata\n",
    "        %run xenocanto -m {sp_lat} \n",
    "        json_file = \"dataset/metadata/\" + ''.join(sp_lat.split()) + \"/page1.json\"\n",
    "        # join to same file\n",
    "        with open(json_file) as file:\n",
    "            sp_data = json.load(file)\n",
    "        species_data = pd.json_normalize(sp_data, record_path =['recordings'])\n",
    "        if(len(xc_data_files) < 1):\n",
    "            xc_data_files = species_data\n",
    "        else:\n",
    "            xc_data_files = pd.concat([xc_data_files, species_data])\n",
    "    else:\n",
    "        # download metadata one quality class at time\n",
    "        count = 0\n",
    "        quality = [\"A\", \"B\", \"C\", \"D\", \"E\"]\n",
    "        q_i = 0\n",
    "        while (count < n_per_species)&(q_i < 5):\n",
    "            %run xenocanto -m {sp_lat} q:{quality[q_i]}\n",
    "            json_file = \"dataset/metadata/\" + ''.join(sp_lat.split()) + \"q_\" + quality[q_i] + \"/page1.json\"\n",
    "            with open(json_file) as file:\n",
    "                sp_data = json.load(file)\n",
    "            species_data = pd.json_normalize(sp_data, record_path =['recordings'])\n",
    "            species_data = species_data.iloc[0:min(len(species_data), n_per_species-count)]\n",
    "            count = count + len(species_data)\n",
    "            if(len(xc_data_files) < 1):\n",
    "                xc_data_files = species_data\n",
    "            else:\n",
    "                xc_data_files = pd.concat([xc_data_files, species_data])\n",
    "            q_i = q_i+1   \n",
    "\n",
    "xc_data_files.to_csv(out_path, index = False)\n",
    "xc_data_files = pd.read_csv(out_path)\n",
    "\n",
    "# Remove too long and short recordings\n",
    "save = [0] *len(xc_data_files)\n",
    "for i in range(len(xc_data_files)):\n",
    "    duration = xc_data_files.loc[i, 'length']\n",
    "    dur = sum(x * int(t) for x, t in zip([60, 1], duration.split(\":\"))) \n",
    "    if dur > 3 and dur < 600:\n",
    "        save[i] = 1\n",
    "xc_data_files['save'] = save\n",
    "xc_data_files = xc_data_files.loc[xc_data_files['save'] == 1]\n",
    "    \n",
    "xc_data_files.to_csv(out_path, index = False)"
   ]
  },
  {
   "cell_type": "markdown",
   "id": "d3c9e4b8",
   "metadata": {},
   "source": [
    "# Download the audio files"
   ]
  },
  {
   "cell_type": "code",
   "execution_count": 8,
   "id": "5103dbef",
   "metadata": {},
   "outputs": [
    {
     "name": "stdout",
     "output_type": "stream",
     "text": [
      "-1 / unknown\n",
      "Completed!\n"
     ]
    }
   ],
   "source": [
    "in_path = \"BSG_results/xc_files_to_download_batch\" + batch_no + \".csv\"\n",
    "\n",
    "metadata = pd.read_csv(in_path)\n",
    "# Download one batch at a time and sleep in between in order to not cause too much traffic to the site\n",
    "batch_size = 100 # nbr of files to load at once\n",
    "time_to_sleep = 60*1 # time in seconds between consecutive batches\n",
    "\n",
    "i = 0\n",
    "\n",
    "while(i < len(metadata)):\n",
    "    url = metadata.loc[i, 'file']\n",
    "    try:\n",
    "        wget.download(url, out = path_to_new_recs + str(metadata.loc[i, 'id']) + batch_no + '.mp3')\n",
    "    except:\n",
    "        print(\"\")\n",
    "        print(f\"File {url} ({i}) not found.\")\n",
    "    i = i+1\n",
    "    if(i % batch_size == 0):\n",
    "        print(\"\")\n",
    "        print(f\"{i} / {len(metadata)} ({round(i/len(metadata)*100, 2)}%) completed, sleeping for {time_to_sleep/60} minutes...\")\n",
    "        time.sleep(time_to_sleep)\n",
    "\n",
    "print()\n",
    "print(\"Completed!\")        "
   ]
  },
  {
   "cell_type": "code",
   "execution_count": 9,
   "id": "43f0e310",
   "metadata": {},
   "outputs": [
    {
     "name": "stdout",
     "output_type": "stream",
     "text": [
      "Files downloaded: 39\n",
      "Files in metadata: 39\n",
      "Difference between sets:\n",
      "[]\n",
      "[]\n"
     ]
    }
   ],
   "source": [
    "in_path = \"BSG_results/xc_files_to_download_batch\" + batch_no + \".csv\"\n",
    "\n",
    "metadata = pd.read_csv(in_path)\n",
    "metadata['id'] = metadata['id'].astype(str) + batch_no\n",
    "\n",
    "# Check that metadata matches the files and remove missing rows/files manually\n",
    "new_files = os.listdir(path_to_new_recs)\n",
    "print(f\"Files downloaded: {len(new_files)}\")\n",
    "print(f\"Files in metadata: {len(metadata)}\")\n",
    "print(\"Difference between sets:\")\n",
    "new_files2 = metadata['id'] + '.mp3'\n",
    "print(list(set(new_files) - set(new_files2)))\n",
    "print(list(set(new_files2) - set(new_files)))"
   ]
  },
  {
   "cell_type": "code",
   "execution_count": 14,
   "id": "c1745558-0074-4ae3-b8f2-7813efa69cc8",
   "metadata": {
    "collapsed": true,
    "jupyter": {
     "outputs_hidden": true
    }
   },
   "outputs": [
    {
     "name": "stdout",
     "output_type": "stream",
     "text": [
      "Files downloaded: 1196\n",
      "Files in metadata: 1196\n",
      "Difference between sets:\n",
      "[]\n",
      "[]\n"
     ]
    }
   ],
   "source": [
    "# if there are failed downloads\n",
    "\n",
    "#failed_downloads = list(set(new_files2) - set(new_files))\n",
    "#failed_downloads = [f[:-4] for f in failed_downloads]\n",
    "#metadata = metadata.loc[~metadata['id'].isin(failed_downloads)]\n",
    "\n",
    "# Check that metadata matches the files and remove missing rows/files manually\n",
    "#new_files = os.listdir(path_to_new_recs)\n",
    "#print(f\"Files downloaded: {len(new_files)}\")\n",
    "#print(f\"Files in metadata: {len(metadata)}\")\n",
    "#print(\"Difference between sets:\")\n",
    "#new_files2 = metadata['id'] + '.mp3'\n",
    "#print(list(set(new_files) - set(new_files2)))\n",
    "#print(list(set(new_files2) - set(new_files)))"
   ]
  },
  {
   "cell_type": "code",
   "execution_count": 10,
   "id": "f64df71a",
   "metadata": {},
   "outputs": [
    {
     "name": "stdout",
     "output_type": "stream",
     "text": [
      "Joining metadata...\n"
     ]
    },
    {
     "name": "stderr",
     "output_type": "stream",
     "text": [
      "C:\\Hyapp\\Anaconda3-2020.11\\envs\\tf-keras-gpu\\lib\\site-packages\\IPython\\core\\interactiveshell.py:3072: DtypeWarning: Columns (0,8) have mixed types.Specify dtype option on import or set low_memory=False.\n",
      "  interactivity=interactivity, compiler=compiler, result=result)\n"
     ]
    },
    {
     "name": "stdout",
     "output_type": "stream",
     "text": [
      "Initially (179580, 30)\n",
      "Without duplicates: (179580, 30)\n",
      "Added (39, 30)\n",
      "Equals (179619, 30)\n",
      "Without duplicates: (179619, 30)\n",
      "Check that metadata matches the audio files...\n",
      "Audio files: 179619\n",
      "Rows in metadata: 179619\n",
      "[]\n",
      "[]\n"
     ]
    }
   ],
   "source": [
    "# Move all audio files from the temporary folder to final folder on L-drive\n",
    "for file_name in new_files:\n",
    "    shutil.move(path_to_new_recs + file_name, path_to_old_recs + file_name)\n",
    "\n",
    "# Join metadata and save on L-drive \n",
    "print(\"Joining metadata...\")\n",
    "all_metadata = pd.read_csv(path_to_metadata + '/xc_downloaded_files.csv')\n",
    "print(f\"Initially {all_metadata.shape}\")\n",
    "print(f\"Without duplicates: {all_metadata.drop_duplicates().shape}\")\n",
    "new_metadata = metadata[all_metadata.columns]\n",
    "new_metadata.to_csv(path_to_metadata + '/xc_downloaded_files_batch' + batch_no + '.csv', index = False) \n",
    "print(f\"Added {new_metadata.shape}\")\n",
    "new_metadata = pd.concat([all_metadata, new_metadata], ignore_index = True)\n",
    "print(f\"Equals {new_metadata.shape}\")\n",
    "print(f\"Without duplicates: {new_metadata.drop_duplicates().shape}\")\n",
    "new_metadata.to_csv(path_to_metadata + 'xc_downloaded_files_new.csv', index = False) \n",
    "\n",
    "# Recheck that metadata matches the files\n",
    "print(\"Check that metadata matches the audio files...\")\n",
    "metadata_files = new_metadata['id']\n",
    "metadata_files = [str(f) + '.mp3' for f in metadata_files]                           \n",
    "audio_files = os.listdir(path_to_old_recs)\n",
    "print(f\"Audio files: {len(audio_files)}\")\n",
    "print(f\"Rows in metadata: {len(metadata_files)}\")\n",
    "print(list(set(audio_files) - set(metadata_files)))\n",
    "print(list(set(metadata_files) - set(audio_files)))"
   ]
  },
  {
   "cell_type": "code",
   "execution_count": 11,
   "id": "20374cf1",
   "metadata": {
    "collapsed": true
   },
   "outputs": [
    {
     "ename": "PermissionError",
     "evalue": "[WinError 5] Access is denied: 'dataset/metadata'",
     "output_type": "error",
     "traceback": [
      "\u001b[1;31m---------------------------------------------------------------------------\u001b[0m",
      "\u001b[1;31mPermissionError\u001b[0m                           Traceback (most recent call last)",
      "\u001b[1;32m<ipython-input-11-eeb6619cca6a>\u001b[0m in \u001b[0;36m<module>\u001b[1;34m\u001b[0m\n\u001b[0;32m      7\u001b[0m \u001b[1;33m\u001b[0m\u001b[0m\n\u001b[0;32m      8\u001b[0m \u001b[1;31m# Finally remove all ceno-canto metadata files from dataset/metadata/\u001b[0m\u001b[1;33m\u001b[0m\u001b[1;33m\u001b[0m\u001b[1;33m\u001b[0m\u001b[0m\n\u001b[1;32m----> 9\u001b[1;33m \u001b[0mos\u001b[0m\u001b[1;33m.\u001b[0m\u001b[0mremove\u001b[0m\u001b[1;33m(\u001b[0m\u001b[1;34m\"dataset/metadata\"\u001b[0m\u001b[1;33m)\u001b[0m \u001b[1;31m# remove these by hand if needed\u001b[0m\u001b[1;33m\u001b[0m\u001b[1;33m\u001b[0m\u001b[0m\n\u001b[0m\u001b[0;32m     10\u001b[0m \u001b[0mos\u001b[0m\u001b[1;33m.\u001b[0m\u001b[0mmkdir\u001b[0m\u001b[1;33m(\u001b[0m\u001b[1;34m\"dataset/metadata\"\u001b[0m\u001b[1;33m)\u001b[0m\u001b[1;33m\u001b[0m\u001b[1;33m\u001b[0m\u001b[0m\n",
      "\u001b[1;31mPermissionError\u001b[0m: [WinError 5] Access is denied: 'dataset/metadata'"
     ]
    }
   ],
   "source": [
    "# Replace old metadata with new one once confirmed that everything is in order\n",
    "os.remove(in_path) # remove temporary metadata for xeno-canto download\n",
    "os.remove(path_to_metadata + 'xc_downloaded_files_batch' + batch_no + '.csv') # remove temporary metadata\n",
    "os.remove(path_to_metadata + 'xc_downloaded_files.csv') # remove old metadata\n",
    "os.rename(path_to_metadata + 'xc_downloaded_files_new.csv', \n",
    "          path_to_metadata + 'xc_downloaded_files.csv')\n",
    "\n",
    "# Finally remove all ceno-canto metadata files from dataset/metadata/\n",
    "os.remove(\"dataset/metadata\")\n",
    "os.mkdir(\"dataset/metadata\")"
   ]
  }
 ],
 "metadata": {
  "kernelspec": {
   "display_name": "Python 3 (ipykernel)",
   "language": "python",
   "name": "python3"
  },
  "language_info": {
   "codemirror_mode": {
    "name": "ipython",
    "version": 3
   },
   "file_extension": ".py",
   "mimetype": "text/x-python",
   "name": "python",
   "nbconvert_exporter": "python",
   "pygments_lexer": "ipython3",
   "version": "3.11.5"
  }
 },
 "nbformat": 4,
 "nbformat_minor": 5
}

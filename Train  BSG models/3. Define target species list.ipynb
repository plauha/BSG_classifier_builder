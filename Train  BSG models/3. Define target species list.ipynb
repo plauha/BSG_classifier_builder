{
 "cells": [
  {
   "cell_type": "code",
   "execution_count": 1,
   "id": "522b1e92",
   "metadata": {},
   "outputs": [],
   "source": [
    "import pandas as pd\n",
    "import numpy as np\n",
    "import os"
   ]
  },
  {
   "cell_type": "markdown",
   "id": "035f8e97",
   "metadata": {},
   "source": [
    "# Create initial species list based on BSG annotations"
   ]
  },
  {
   "cell_type": "code",
   "execution_count": 2,
   "id": "88fc7e7b",
   "metadata": {},
   "outputs": [],
   "source": [
    "model_path = 'models/Spain_Portugal/' # name of the model\n",
    "os.mkdir(model_path)"
   ]
  },
  {
   "cell_type": "code",
   "execution_count": 3,
   "id": "292477d1",
   "metadata": {},
   "outputs": [
    {
     "data": {
      "text/html": [
       "<div>\n",
       "<style scoped>\n",
       "    .dataframe tbody tr th:only-of-type {\n",
       "        vertical-align: middle;\n",
       "    }\n",
       "\n",
       "    .dataframe tbody tr th {\n",
       "        vertical-align: top;\n",
       "    }\n",
       "\n",
       "    .dataframe thead th {\n",
       "        text-align: right;\n",
       "    }\n",
       "</style>\n",
       "<table border=\"1\" class=\"dataframe\">\n",
       "  <thead>\n",
       "    <tr style=\"text-align: right;\">\n",
       "      <th></th>\n",
       "      <th>species_code</th>\n",
       "      <th>common_name</th>\n",
       "      <th>scientific_name</th>\n",
       "      <th>xc_common_name</th>\n",
       "      <th>xc_scientific_name</th>\n",
       "    </tr>\n",
       "  </thead>\n",
       "  <tbody>\n",
       "    <tr>\n",
       "      <th>164</th>\n",
       "      <td>mallar3</td>\n",
       "      <td>Mallard</td>\n",
       "      <td>Anas platyrhynchos</td>\n",
       "      <td>Mallard</td>\n",
       "      <td>Anas platyrhynchos</td>\n",
       "    </tr>\n",
       "    <tr>\n",
       "      <th>403</th>\n",
       "      <td>comqua1</td>\n",
       "      <td>Common Quail</td>\n",
       "      <td>Coturnix coturnix</td>\n",
       "      <td>Common Quail</td>\n",
       "      <td>Coturnix coturnix</td>\n",
       "    </tr>\n",
       "    <tr>\n",
       "      <th>412</th>\n",
       "      <td>relpar1</td>\n",
       "      <td>Red-legged Partridge</td>\n",
       "      <td>Alectoris rufa</td>\n",
       "      <td>Red-legged Partridge</td>\n",
       "      <td>Alectoris rufa</td>\n",
       "    </tr>\n",
       "    <tr>\n",
       "      <th>458</th>\n",
       "      <td>redjun</td>\n",
       "      <td>Red Junglefowl</td>\n",
       "      <td>Gallus gallus</td>\n",
       "      <td>Red Junglefowl</td>\n",
       "      <td>Gallus gallus</td>\n",
       "    </tr>\n",
       "    <tr>\n",
       "      <th>534</th>\n",
       "      <td>grefla3</td>\n",
       "      <td>Greater Flamingo</td>\n",
       "      <td>Phoenicopterus roseus</td>\n",
       "      <td>Greater Flamingo</td>\n",
       "      <td>Phoenicopterus roseus</td>\n",
       "    </tr>\n",
       "    <tr>\n",
       "      <th>...</th>\n",
       "      <td>...</td>\n",
       "      <td>...</td>\n",
       "      <td>...</td>\n",
       "      <td>...</td>\n",
       "      <td>...</td>\n",
       "    </tr>\n",
       "    <tr>\n",
       "      <th>9848</th>\n",
       "      <td>eurgol</td>\n",
       "      <td>European Goldfinch</td>\n",
       "      <td>Carduelis carduelis</td>\n",
       "      <td>European Goldfinch</td>\n",
       "      <td>Carduelis carduelis</td>\n",
       "    </tr>\n",
       "    <tr>\n",
       "      <th>9851</th>\n",
       "      <td>eurser1</td>\n",
       "      <td>European Serin</td>\n",
       "      <td>Serinus serinus</td>\n",
       "      <td>European Serin</td>\n",
       "      <td>Serinus serinus</td>\n",
       "    </tr>\n",
       "    <tr>\n",
       "      <th>9860</th>\n",
       "      <td>eursis</td>\n",
       "      <td>Eurasian Siskin</td>\n",
       "      <td>Spinus spinus</td>\n",
       "      <td>Eurasian Siskin</td>\n",
       "      <td>Spinus spinus</td>\n",
       "    </tr>\n",
       "    <tr>\n",
       "      <th>9890</th>\n",
       "      <td>corbun1</td>\n",
       "      <td>Corn Bunting</td>\n",
       "      <td>Emberiza calandra</td>\n",
       "      <td>Corn Bunting</td>\n",
       "      <td>Emberiza calandra</td>\n",
       "    </tr>\n",
       "    <tr>\n",
       "      <th>9897</th>\n",
       "      <td>cirbun1</td>\n",
       "      <td>Cirl Bunting</td>\n",
       "      <td>Emberiza cirlus</td>\n",
       "      <td>Cirl Bunting</td>\n",
       "      <td>Emberiza cirlus</td>\n",
       "    </tr>\n",
       "  </tbody>\n",
       "</table>\n",
       "<p>94 rows × 5 columns</p>\n",
       "</div>"
      ],
      "text/plain": [
       "     species_code           common_name        scientific_name  \\\n",
       "164       mallar3               Mallard     Anas platyrhynchos   \n",
       "403       comqua1          Common Quail      Coturnix coturnix   \n",
       "412       relpar1  Red-legged Partridge         Alectoris rufa   \n",
       "458        redjun        Red Junglefowl          Gallus gallus   \n",
       "534       grefla3      Greater Flamingo  Phoenicopterus roseus   \n",
       "...           ...                   ...                    ...   \n",
       "9848       eurgol    European Goldfinch    Carduelis carduelis   \n",
       "9851      eurser1        European Serin        Serinus serinus   \n",
       "9860       eursis       Eurasian Siskin          Spinus spinus   \n",
       "9890      corbun1          Corn Bunting      Emberiza calandra   \n",
       "9897      cirbun1          Cirl Bunting        Emberiza cirlus   \n",
       "\n",
       "            xc_common_name     xc_scientific_name  \n",
       "164                Mallard     Anas platyrhynchos  \n",
       "403           Common Quail      Coturnix coturnix  \n",
       "412   Red-legged Partridge         Alectoris rufa  \n",
       "458         Red Junglefowl          Gallus gallus  \n",
       "534       Greater Flamingo  Phoenicopterus roseus  \n",
       "...                    ...                    ...  \n",
       "9848    European Goldfinch    Carduelis carduelis  \n",
       "9851        European Serin        Serinus serinus  \n",
       "9860       Eurasian Siskin          Spinus spinus  \n",
       "9890          Corn Bunting      Emberiza calandra  \n",
       "9897          Cirl Bunting        Emberiza cirlus  \n",
       "\n",
       "[94 rows x 5 columns]"
      ]
     },
     "execution_count": 3,
     "metadata": {},
     "output_type": "execute_result"
    }
   ],
   "source": [
    "# define the BSG sites that will be included in the model\n",
    "site_list = [622, 718, 655, 750, 643] #spain & portugal\n",
    "\n",
    "np.save(model_path + 'site_list.npy', site_list)\n",
    "\n",
    "annotations = pd.read_csv(\"BSG_results/10s_annotations.csv\")\n",
    "bsg_species = pd.read_csv(\"BSG_results/bsg_species.csv\")\n",
    "\n",
    "annotations = annotations[annotations['site_id'].isin(site_list)]\n",
    "species_list = np.unique(annotations['species_code'])\n",
    "species_list = np.delete(species_list, np.where(species_list == 'other'))\n",
    "species_list = bsg_species[bsg_species['species_code'].isin(species_list)]\n",
    "species_list.to_csv(model_path + 'initial_sp_list.csv', index=False) # save initial list for manual check \n",
    "species_list"
   ]
  },
  {
   "cell_type": "markdown",
   "id": "390453c7",
   "metadata": {},
   "source": [
    "The species list should be manually checked in case of erroneous annotations. Additional species can also be included, if necessary."
   ]
  },
  {
   "cell_type": "markdown",
   "id": "832eb170",
   "metadata": {},
   "source": [
    "# Check and save final species list"
   ]
  },
  {
   "cell_type": "code",
   "execution_count": 5,
   "id": "1c6fd6e2",
   "metadata": {},
   "outputs": [
    {
     "data": {
      "text/html": [
       "<div>\n",
       "<style scoped>\n",
       "    .dataframe tbody tr th:only-of-type {\n",
       "        vertical-align: middle;\n",
       "    }\n",
       "\n",
       "    .dataframe tbody tr th {\n",
       "        vertical-align: top;\n",
       "    }\n",
       "\n",
       "    .dataframe thead th {\n",
       "        text-align: right;\n",
       "    }\n",
       "</style>\n",
       "<table border=\"1\" class=\"dataframe\">\n",
       "  <thead>\n",
       "    <tr style=\"text-align: right;\">\n",
       "      <th></th>\n",
       "      <th>species_code</th>\n",
       "      <th>common_name</th>\n",
       "      <th>scientific_name</th>\n",
       "      <th>xc_common_name</th>\n",
       "      <th>xc_scientific_name</th>\n",
       "    </tr>\n",
       "  </thead>\n",
       "  <tbody>\n",
       "  </tbody>\n",
       "</table>\n",
       "</div>"
      ],
      "text/plain": [
       "Empty DataFrame\n",
       "Columns: [species_code, common_name, scientific_name, xc_common_name, xc_scientific_name]\n",
       "Index: []"
      ]
     },
     "execution_count": 5,
     "metadata": {},
     "output_type": "execute_result"
    }
   ],
   "source": [
    "species_list = pd.read_csv(model_path + 'initial_species_list.csv')\n",
    "# Check if information of species names exists for all species\n",
    "# print species with missing names\n",
    "species_list.loc[species_list['xc_scientific_name'].isna()]\n"
   ]
  },
  {
   "cell_type": "code",
   "execution_count": 6,
   "id": "3d332c05",
   "metadata": {},
   "outputs": [
    {
     "data": {
      "text/html": [
       "<div>\n",
       "<style scoped>\n",
       "    .dataframe tbody tr th:only-of-type {\n",
       "        vertical-align: middle;\n",
       "    }\n",
       "\n",
       "    .dataframe tbody tr th {\n",
       "        vertical-align: top;\n",
       "    }\n",
       "\n",
       "    .dataframe thead th {\n",
       "        text-align: right;\n",
       "    }\n",
       "</style>\n",
       "<table border=\"1\" class=\"dataframe\">\n",
       "  <thead>\n",
       "    <tr style=\"text-align: right;\">\n",
       "      <th></th>\n",
       "      <th>species_code</th>\n",
       "      <th>common_name</th>\n",
       "      <th>scientific_name</th>\n",
       "      <th>xc_common_name</th>\n",
       "      <th>xc_scientific_name</th>\n",
       "    </tr>\n",
       "  </thead>\n",
       "  <tbody>\n",
       "  </tbody>\n",
       "</table>\n",
       "</div>"
      ],
      "text/plain": [
       "Empty DataFrame\n",
       "Columns: [species_code, common_name, scientific_name, xc_common_name, xc_scientific_name]\n",
       "Index: []"
      ]
     },
     "execution_count": 6,
     "metadata": {},
     "output_type": "execute_result"
    }
   ],
   "source": [
    "# Check if all species included in the species list still exist in xeno-canto archives (due to eg. taxonomic changes, changes in species names etc.)\n",
    "\n",
    "# print species_list with non-matching species names\n",
    "# xeno-canto species list updated from https://xeno-canto.org/collection/species/all on 11.6.2024\n",
    "xc_species = pd.read_csv(\"BSG_results/xc_species.csv\")\n",
    "species_list.loc[~species_list['xc_scientific_name'].isin(xc_species['Scientific name'])]\n",
    "\n",
    "# if needed, manually fix the updated names to  bsg_results/bsg_species.csv and to the current species list model_path/species_list.csv"
   ]
  }
 ],
 "metadata": {
  "kernelspec": {
   "display_name": "Python 3 (ipykernel)",
   "language": "python",
   "name": "python3"
  },
  "language_info": {
   "codemirror_mode": {
    "name": "ipython",
    "version": 3
   },
   "file_extension": ".py",
   "mimetype": "text/x-python",
   "name": "python",
   "nbconvert_exporter": "python",
   "pygments_lexer": "ipython3",
   "version": "3.11.5"
  }
 },
 "nbformat": 4,
 "nbformat_minor": 5
}
